{
 "cells": [
  {
   "cell_type": "markdown",
   "id": "5eca8404-d1c7-4b1f-a74f-fdc18171e350",
   "metadata": {},
   "source": [
    "# THỰC HÀNH PHÂN TÍCH THỐNG KÊ NHIỀU CHIỀU\n",
    "## TUẦN 1: ĐẶC TRƯNG MẪU\n",
    "### Bài 1: Cho bảng số liệu về điểm các môn: toán, tiếng anh, lịch sử, địa lí, hoá học, vật lí của 5 học sinh như sau:"
   ]
  },
  {
   "cell_type": "code",
   "execution_count": 1,
   "id": "c0157986-2e9b-4aeb-b8cd-5f2ea372dc3b",
   "metadata": {
    "scrolled": true,
    "tags": []
   },
   "outputs": [
    {
     "data": {
      "text/html": [
       "<table class=\"dataframe\">\n",
       "<caption>A data.frame: 5 x 7</caption>\n",
       "<thead>\n",
       "\t<tr><th scope=col>hocsinh</th><th scope=col>toan</th><th scope=col>tienganh</th><th scope=col>lichsu</th><th scope=col>diali</th><th scope=col>hoahoc</th><th scope=col>vatli</th></tr>\n",
       "\t<tr><th scope=col>&lt;int&gt;</th><th scope=col>&lt;int&gt;</th><th scope=col>&lt;int&gt;</th><th scope=col>&lt;int&gt;</th><th scope=col>&lt;int&gt;</th><th scope=col>&lt;int&gt;</th><th scope=col>&lt;int&gt;</th></tr>\n",
       "</thead>\n",
       "<tbody>\n",
       "\t<tr><td>1</td><td>60</td><td>70</td><td>75</td><td>58</td><td>53</td><td>42</td></tr>\n",
       "\t<tr><td>2</td><td>80</td><td>65</td><td>66</td><td>75</td><td>70</td><td>76</td></tr>\n",
       "\t<tr><td>3</td><td>53</td><td>60</td><td>50</td><td>48</td><td>45</td><td>43</td></tr>\n",
       "\t<tr><td>4</td><td>85</td><td>79</td><td>71</td><td>77</td><td>68</td><td>79</td></tr>\n",
       "\t<tr><td>5</td><td>45</td><td>80</td><td>80</td><td>84</td><td>44</td><td>46</td></tr>\n",
       "</tbody>\n",
       "</table>\n"
      ],
      "text/latex": [
       "A data.frame: 5 x 7\n",
       "\\begin{tabular}{lllllll}\n",
       " hocsinh & toan & tienganh & lichsu & diali & hoahoc & vatli\\\\\n",
       " <int> & <int> & <int> & <int> & <int> & <int> & <int>\\\\\n",
       "\\hline\n",
       "\t 1 & 60 & 70 & 75 & 58 & 53 & 42\\\\\n",
       "\t 2 & 80 & 65 & 66 & 75 & 70 & 76\\\\\n",
       "\t 3 & 53 & 60 & 50 & 48 & 45 & 43\\\\\n",
       "\t 4 & 85 & 79 & 71 & 77 & 68 & 79\\\\\n",
       "\t 5 & 45 & 80 & 80 & 84 & 44 & 46\\\\\n",
       "\\end{tabular}\n"
      ],
      "text/markdown": [
       "\n",
       "A data.frame: 5 x 7\n",
       "\n",
       "| hocsinh &lt;int&gt; | toan &lt;int&gt; | tienganh &lt;int&gt; | lichsu &lt;int&gt; | diali &lt;int&gt; | hoahoc &lt;int&gt; | vatli &lt;int&gt; |\n",
       "|---|---|---|---|---|---|---|\n",
       "| 1 | 60 | 70 | 75 | 58 | 53 | 42 |\n",
       "| 2 | 80 | 65 | 66 | 75 | 70 | 76 |\n",
       "| 3 | 53 | 60 | 50 | 48 | 45 | 43 |\n",
       "| 4 | 85 | 79 | 71 | 77 | 68 | 79 |\n",
       "| 5 | 45 | 80 | 80 | 84 | 44 | 46 |\n",
       "\n"
      ],
      "text/plain": [
       "  hocsinh toan tienganh lichsu diali hoahoc vatli\n",
       "1 1       60   70       75     58    53     42   \n",
       "2 2       80   65       66     75    70     76   \n",
       "3 3       53   60       50     48    45     43   \n",
       "4 4       85   79       71     77    68     79   \n",
       "5 5       45   80       80     84    44     46   "
      ]
     },
     "metadata": {},
     "output_type": "display_data"
    }
   ],
   "source": [
    "data <- read.csv(\"hocsinh.csv\")\n",
    "attach(data)\n",
    "data"
   ]
  },
  {
   "cell_type": "markdown",
   "id": "87acee9c-8ab3-4c3f-b319-8d63b7dde7c7",
   "metadata": {},
   "source": [
    "#### a) Xét mẫu số liệu gồm 4 biến về điểm toán, lịch sử, địa lí, vật lí được lấy trên 5 học sinh. Tính kỳ vọng mẫu."
   ]
  },
  {
   "cell_type": "code",
   "execution_count": 2,
   "id": "00d48fb1-13aa-4e74-8e5e-d1a2e91e028c",
   "metadata": {
    "tags": []
   },
   "outputs": [
    {
     "data": {
      "text/html": [
       "<style>\n",
       ".dl-inline {width: auto; margin:0; padding: 0}\n",
       ".dl-inline>dt, .dl-inline>dd {float: none; width: auto; display: inline-block}\n",
       ".dl-inline>dt::after {content: \":\\0020\"; padding-right: .5ex}\n",
       ".dl-inline>dt:not(:first-of-type) {padding-left: .5ex}\n",
       "</style><dl class=dl-inline><dt>toan</dt><dd>64.6</dd><dt>lichsu</dt><dd>68.4</dd><dt>diali</dt><dd>68.4</dd><dt>vatli</dt><dd>57.2</dd></dl>\n"
      ],
      "text/latex": [
       "\\begin{description*}\n",
       "\\item[toan] 64.6\n",
       "\\item[lichsu] 68.4\n",
       "\\item[diali] 68.4\n",
       "\\item[vatli] 57.2\n",
       "\\end{description*}\n"
      ],
      "text/markdown": [
       "toan\n",
       ":   64.6lichsu\n",
       ":   68.4diali\n",
       ":   68.4vatli\n",
       ":   57.2\n",
       "\n"
      ],
      "text/plain": [
       "  toan lichsu  diali  vatli \n",
       "  64.6   68.4   68.4   57.2 "
      ]
     },
     "metadata": {},
     "output_type": "display_data"
    }
   ],
   "source": [
    "colMeans(data[, c(\"toan\", \"lichsu\", \"diali\", \"vatli\")])"
   ]
  },
  {
   "cell_type": "markdown",
   "id": "89a074b9-359b-47f2-8066-ef5eecc4b024",
   "metadata": {},
   "source": [
    "#### b) Tính phương sai mẫu, biết:\n",
    "1. Mẫu gồm 6 biến về điểm toán, tiếng anh, lịch sử, địa lí, hoá học, vật lí và số liệu được lấy trên 3 học sinh 1, 3, 5."
   ]
  },
  {
   "cell_type": "code",
   "execution_count": 3,
   "id": "b9fce2b8-c18f-494f-8a06-a21c543bb8cb",
   "metadata": {
    "tags": []
   },
   "outputs": [
    {
     "data": {
      "text/html": [
       "<table class=\"dataframe\">\n",
       "<caption>A matrix: 6 x 6 of type dbl</caption>\n",
       "<thead>\n",
       "\t<tr><th></th><th scope=col>toan</th><th scope=col>tienganh</th><th scope=col>lichsu</th><th scope=col>diali</th><th scope=col>hoahoc</th><th scope=col>vatli</th></tr>\n",
       "</thead>\n",
       "<tbody>\n",
       "\t<tr><th scope=row>toan</th><td>  56.33333</td><td>-40</td><td>-23.33333</td><td>-101.33333</td><td> 33.166667</td><td>-15.166667</td></tr>\n",
       "\t<tr><th scope=row>tienganh</th><td> -40.00000</td><td>100</td><td>150.00000</td><td> 180.00000</td><td> -5.000000</td><td> 15.000000</td></tr>\n",
       "\t<tr><th scope=row>lichsu</th><td> -23.33333</td><td>150</td><td>258.33333</td><td> 243.33333</td><td> 20.833333</td><td> 14.166667</td></tr>\n",
       "\t<tr><th scope=row>diali</th><td>-101.33333</td><td>180</td><td>243.33333</td><td> 345.33333</td><td>-31.666667</td><td> 33.666667</td></tr>\n",
       "\t<tr><th scope=row>hoahoc</th><td>  33.16667</td><td> -5</td><td> 20.83333</td><td> -31.66667</td><td> 24.333333</td><td> -7.833333</td></tr>\n",
       "\t<tr><th scope=row>vatli</th><td> -15.16667</td><td> 15</td><td> 14.16667</td><td>  33.66667</td><td> -7.833333</td><td>  4.333333</td></tr>\n",
       "</tbody>\n",
       "</table>\n"
      ],
      "text/latex": [
       "A matrix: 6 x 6 of type dbl\n",
       "\\begin{tabular}{r|llllll}\n",
       "  & toan & tienganh & lichsu & diali & hoahoc & vatli\\\\\n",
       "\\hline\n",
       "\ttoan &   56.33333 & -40 & -23.33333 & -101.33333 &  33.166667 & -15.166667\\\\\n",
       "\ttienganh &  -40.00000 & 100 & 150.00000 &  180.00000 &  -5.000000 &  15.000000\\\\\n",
       "\tlichsu &  -23.33333 & 150 & 258.33333 &  243.33333 &  20.833333 &  14.166667\\\\\n",
       "\tdiali & -101.33333 & 180 & 243.33333 &  345.33333 & -31.666667 &  33.666667\\\\\n",
       "\thoahoc &   33.16667 &  -5 &  20.83333 &  -31.66667 &  24.333333 &  -7.833333\\\\\n",
       "\tvatli &  -15.16667 &  15 &  14.16667 &   33.66667 &  -7.833333 &   4.333333\\\\\n",
       "\\end{tabular}\n"
      ],
      "text/markdown": [
       "\n",
       "A matrix: 6 x 6 of type dbl\n",
       "\n",
       "| <!--/--> | toan | tienganh | lichsu | diali | hoahoc | vatli |\n",
       "|---|---|---|---|---|---|---|\n",
       "| toan |   56.33333 | -40 | -23.33333 | -101.33333 |  33.166667 | -15.166667 |\n",
       "| tienganh |  -40.00000 | 100 | 150.00000 |  180.00000 |  -5.000000 |  15.000000 |\n",
       "| lichsu |  -23.33333 | 150 | 258.33333 |  243.33333 |  20.833333 |  14.166667 |\n",
       "| diali | -101.33333 | 180 | 243.33333 |  345.33333 | -31.666667 |  33.666667 |\n",
       "| hoahoc |   33.16667 |  -5 |  20.83333 |  -31.66667 |  24.333333 |  -7.833333 |\n",
       "| vatli |  -15.16667 |  15 |  14.16667 |   33.66667 |  -7.833333 |   4.333333 |\n",
       "\n"
      ],
      "text/plain": [
       "         toan       tienganh lichsu    diali      hoahoc     vatli     \n",
       "toan       56.33333 -40      -23.33333 -101.33333  33.166667 -15.166667\n",
       "tienganh  -40.00000 100      150.00000  180.00000  -5.000000  15.000000\n",
       "lichsu    -23.33333 150      258.33333  243.33333  20.833333  14.166667\n",
       "diali    -101.33333 180      243.33333  345.33333 -31.666667  33.666667\n",
       "hoahoc     33.16667  -5       20.83333  -31.66667  24.333333  -7.833333\n",
       "vatli     -15.16667  15       14.16667   33.66667  -7.833333   4.333333"
      ]
     },
     "metadata": {},
     "output_type": "display_data"
    }
   ],
   "source": [
    "var(data[c(1, 3, 5), -1])"
   ]
  },
  {
   "cell_type": "markdown",
   "id": "eaec1771-839a-48cf-8804-6712d7926e7e",
   "metadata": {},
   "source": [
    "2. Mẫu gồm 3 biến về điểm tiếng anh, lịch sử, địa lí và số liệu được lấy trên 5 học sinh."
   ]
  },
  {
   "cell_type": "code",
   "execution_count": 4,
   "id": "d6737a84-6d07-4a0c-8999-8bef7df28071",
   "metadata": {
    "tags": []
   },
   "outputs": [
    {
     "data": {
      "text/html": [
       "<table class=\"dataframe\">\n",
       "<caption>A matrix: 3 x 3 of type dbl</caption>\n",
       "<thead>\n",
       "\t<tr><th></th><th scope=col>tienganh</th><th scope=col>lichsu</th><th scope=col>diali</th></tr>\n",
       "</thead>\n",
       "<tbody>\n",
       "\t<tr><th scope=row>tienganh</th><td> 75.70</td><td> 83.85</td><td>101.10</td></tr>\n",
       "\t<tr><th scope=row>lichsu</th><td> 83.85</td><td>132.30</td><td>123.55</td></tr>\n",
       "\t<tr><th scope=row>diali</th><td>101.10</td><td>123.55</td><td>221.30</td></tr>\n",
       "</tbody>\n",
       "</table>\n"
      ],
      "text/latex": [
       "A matrix: 3 x 3 of type dbl\n",
       "\\begin{tabular}{r|lll}\n",
       "  & tienganh & lichsu & diali\\\\\n",
       "\\hline\n",
       "\ttienganh &  75.70 &  83.85 & 101.10\\\\\n",
       "\tlichsu &  83.85 & 132.30 & 123.55\\\\\n",
       "\tdiali & 101.10 & 123.55 & 221.30\\\\\n",
       "\\end{tabular}\n"
      ],
      "text/markdown": [
       "\n",
       "A matrix: 3 x 3 of type dbl\n",
       "\n",
       "| <!--/--> | tienganh | lichsu | diali |\n",
       "|---|---|---|---|\n",
       "| tienganh |  75.70 |  83.85 | 101.10 |\n",
       "| lichsu |  83.85 | 132.30 | 123.55 |\n",
       "| diali | 101.10 | 123.55 | 221.30 |\n",
       "\n"
      ],
      "text/plain": [
       "         tienganh lichsu diali \n",
       "tienganh  75.70    83.85 101.10\n",
       "lichsu    83.85   132.30 123.55\n",
       "diali    101.10   123.55 221.30"
      ]
     },
     "metadata": {},
     "output_type": "display_data"
    }
   ],
   "source": [
    "var(data[, c(\"tienganh\", \"lichsu\", \"diali\")])"
   ]
  },
  {
   "cell_type": "markdown",
   "id": "eec4aae4-4d38-44e1-89b8-630558948416",
   "metadata": {
    "tags": []
   },
   "source": [
    "#### c) Tìm tương quan mẫu gồm 6 biến về điểm toán, tiếng anh, lịch sử, địa lí, hoá học, vật lí và số liệu được lấy trên 4 học sinh 1, 2, 3, 5."
   ]
  },
  {
   "cell_type": "code",
   "execution_count": 5,
   "id": "33b13cc0-0a5d-4aa6-b927-b51e4613a75b",
   "metadata": {
    "tags": []
   },
   "outputs": [
    {
     "data": {
      "text/html": [
       "<table class=\"dataframe\">\n",
       "<caption>A matrix: 6 x 6 of type dbl</caption>\n",
       "<thead>\n",
       "\t<tr><th></th><th scope=col>toan</th><th scope=col>tienganh</th><th scope=col>lichsu</th><th scope=col>diali</th><th scope=col>hoahoc</th><th scope=col>vatli</th></tr>\n",
       "</thead>\n",
       "<tbody>\n",
       "\t<tr><th scope=row>toan</th><td> 1.0000000</td><td>-0.4756432</td><td>-0.15962821</td><td>0.0499709</td><td> 0.98252164</td><td> 0.8659342</td></tr>\n",
       "\t<tr><th scope=row>tienganh</th><td>-0.4756432</td><td> 1.0000000</td><td> 0.91478344</td><td>0.7594311</td><td>-0.30832214</td><td>-0.2191244</td></tr>\n",
       "\t<tr><th scope=row>lichsu</th><td>-0.1596282</td><td> 0.9147834</td><td> 1.00000000</td><td>0.7256648</td><td> 0.00420698</td><td>-0.0439679</td></tr>\n",
       "\t<tr><th scope=row>diali</th><td> 0.0499709</td><td> 0.7594311</td><td> 0.72566484</td><td>1.0000000</td><td> 0.23015519</td><td> 0.4418165</td></tr>\n",
       "\t<tr><th scope=row>hoahoc</th><td> 0.9825216</td><td>-0.3083221</td><td> 0.00420698</td><td>0.2301552</td><td> 1.00000000</td><td> 0.9103917</td></tr>\n",
       "\t<tr><th scope=row>vatli</th><td> 0.8659342</td><td>-0.2191244</td><td>-0.04396790</td><td>0.4418165</td><td> 0.91039165</td><td> 1.0000000</td></tr>\n",
       "</tbody>\n",
       "</table>\n"
      ],
      "text/latex": [
       "A matrix: 6 x 6 of type dbl\n",
       "\\begin{tabular}{r|llllll}\n",
       "  & toan & tienganh & lichsu & diali & hoahoc & vatli\\\\\n",
       "\\hline\n",
       "\ttoan &  1.0000000 & -0.4756432 & -0.15962821 & 0.0499709 &  0.98252164 &  0.8659342\\\\\n",
       "\ttienganh & -0.4756432 &  1.0000000 &  0.91478344 & 0.7594311 & -0.30832214 & -0.2191244\\\\\n",
       "\tlichsu & -0.1596282 &  0.9147834 &  1.00000000 & 0.7256648 &  0.00420698 & -0.0439679\\\\\n",
       "\tdiali &  0.0499709 &  0.7594311 &  0.72566484 & 1.0000000 &  0.23015519 &  0.4418165\\\\\n",
       "\thoahoc &  0.9825216 & -0.3083221 &  0.00420698 & 0.2301552 &  1.00000000 &  0.9103917\\\\\n",
       "\tvatli &  0.8659342 & -0.2191244 & -0.04396790 & 0.4418165 &  0.91039165 &  1.0000000\\\\\n",
       "\\end{tabular}\n"
      ],
      "text/markdown": [
       "\n",
       "A matrix: 6 x 6 of type dbl\n",
       "\n",
       "| <!--/--> | toan | tienganh | lichsu | diali | hoahoc | vatli |\n",
       "|---|---|---|---|---|---|---|\n",
       "| toan |  1.0000000 | -0.4756432 | -0.15962821 | 0.0499709 |  0.98252164 |  0.8659342 |\n",
       "| tienganh | -0.4756432 |  1.0000000 |  0.91478344 | 0.7594311 | -0.30832214 | -0.2191244 |\n",
       "| lichsu | -0.1596282 |  0.9147834 |  1.00000000 | 0.7256648 |  0.00420698 | -0.0439679 |\n",
       "| diali |  0.0499709 |  0.7594311 |  0.72566484 | 1.0000000 |  0.23015519 |  0.4418165 |\n",
       "| hoahoc |  0.9825216 | -0.3083221 |  0.00420698 | 0.2301552 |  1.00000000 |  0.9103917 |\n",
       "| vatli |  0.8659342 | -0.2191244 | -0.04396790 | 0.4418165 |  0.91039165 |  1.0000000 |\n",
       "\n"
      ],
      "text/plain": [
       "         toan       tienganh   lichsu      diali     hoahoc      vatli     \n",
       "toan      1.0000000 -0.4756432 -0.15962821 0.0499709  0.98252164  0.8659342\n",
       "tienganh -0.4756432  1.0000000  0.91478344 0.7594311 -0.30832214 -0.2191244\n",
       "lichsu   -0.1596282  0.9147834  1.00000000 0.7256648  0.00420698 -0.0439679\n",
       "diali     0.0499709  0.7594311  0.72566484 1.0000000  0.23015519  0.4418165\n",
       "hoahoc    0.9825216 -0.3083221  0.00420698 0.2301552  1.00000000  0.9103917\n",
       "vatli     0.8659342 -0.2191244 -0.04396790 0.4418165  0.91039165  1.0000000"
      ]
     },
     "metadata": {},
     "output_type": "display_data"
    }
   ],
   "source": [
    "cor(data[c(1, 2, 3, 5), -1])"
   ]
  },
  {
   "cell_type": "markdown",
   "id": "68b11d21-e650-447c-b02c-e2b741210272",
   "metadata": {},
   "source": [
    "### Bài 2: Bảng số liệu dưới đây được thu thập trong một nghiên cứu ô nhiễm không khí tại các thành phố ở Mỹ. Số liệu về các biến sau được cho bởi 13 thành phố:"
   ]
  },
  {
   "cell_type": "code",
   "execution_count": 6,
   "id": "f2e3f40c-d705-475e-baf7-9899331d9676",
   "metadata": {
    "tags": []
   },
   "outputs": [
    {
     "data": {
      "text/html": [
       "<table class=\"dataframe\">\n",
       "<caption>A data.frame: 13 x 8</caption>\n",
       "<thead>\n",
       "\t<tr><th></th><th scope=col>ThanhPho</th><th scope=col>SO2</th><th scope=col>NhietDo</th><th scope=col>SoLuong</th><th scope=col>DanSo</th><th scope=col>Gio</th><th scope=col>LuongMua</th><th scope=col>SoNgay</th></tr>\n",
       "\t<tr><th></th><th scope=col>&lt;chr&gt;</th><th scope=col>&lt;int&gt;</th><th scope=col>&lt;dbl&gt;</th><th scope=col>&lt;int&gt;</th><th scope=col>&lt;int&gt;</th><th scope=col>&lt;dbl&gt;</th><th scope=col>&lt;dbl&gt;</th><th scope=col>&lt;int&gt;</th></tr>\n",
       "</thead>\n",
       "<tbody>\n",
       "\t<tr><th scope=row>1</th><td>Albany     </td><td> 46</td><td>47.6</td><td>  44</td><td> 116</td><td> 8.8</td><td>33.36</td><td>135</td></tr>\n",
       "\t<tr><th scope=row>2</th><td>Albuquerque</td><td> 11</td><td>56.8</td><td>  46</td><td> 244</td><td> 8.9</td><td> 7.77</td><td> 58</td></tr>\n",
       "\t<tr><th scope=row>3</th><td>Atlanta    </td><td> 24</td><td>61.5</td><td> 368</td><td> 497</td><td> 9.1</td><td>48.34</td><td>115</td></tr>\n",
       "\t<tr><th scope=row>4</th><td>Baltimore  </td><td> 47</td><td>55.0</td><td> 625</td><td> 905</td><td> 9.6</td><td>41.31</td><td>111</td></tr>\n",
       "\t<tr><th scope=row>5</th><td>Buffalo    </td><td> 11</td><td>47.1</td><td> 391</td><td> 463</td><td>12.4</td><td>36.11</td><td>166</td></tr>\n",
       "\t<tr><th scope=row>6</th><td>Charleston </td><td> 31</td><td>55.2</td><td>  35</td><td>  71</td><td> 6.5</td><td>40.75</td><td>148</td></tr>\n",
       "\t<tr><th scope=row>7</th><td>Chicago    </td><td>110</td><td>50.6</td><td>3344</td><td>3369</td><td>10.4</td><td>34.44</td><td>122</td></tr>\n",
       "\t<tr><th scope=row>8</th><td>Cincimnati </td><td> 23</td><td>54.0</td><td> 462</td><td> 453</td><td> 7.1</td><td>39.04</td><td>132</td></tr>\n",
       "\t<tr><th scope=row>9</th><td>Cleveland  </td><td> 65</td><td>49.7</td><td>1007</td><td> 751</td><td>10.9</td><td>34.99</td><td>155</td></tr>\n",
       "\t<tr><th scope=row>11</th><td>Columbus   </td><td> 26</td><td>51.5</td><td> 266</td><td> 540</td><td> 8.6</td><td>37.01</td><td>134</td></tr>\n",
       "\t<tr><th scope=row>12</th><td>Dallas     </td><td>  9</td><td>66.2</td><td> 641</td><td> 844</td><td>10.9</td><td>35.94</td><td> 78</td></tr>\n",
       "\t<tr><th scope=row>13</th><td>Denver     </td><td> 17</td><td>51.9</td><td> 454</td><td> 515</td><td> 9.0</td><td>12.95</td><td> 86</td></tr>\n",
       "\t<tr><th scope=row>14</th><td>Des Moines </td><td> 17</td><td>66.2</td><td> 104</td><td> 201</td><td>11.2</td><td>30.85</td><td>103</td></tr>\n",
       "</tbody>\n",
       "</table>\n"
      ],
      "text/latex": [
       "A data.frame: 13 x 8\n",
       "\\begin{tabular}{r|llllllll}\n",
       "  & ThanhPho & SO2 & NhietDo & SoLuong & DanSo & Gio & LuongMua & SoNgay\\\\\n",
       "  & <chr> & <int> & <dbl> & <int> & <int> & <dbl> & <dbl> & <int>\\\\\n",
       "\\hline\n",
       "\t1 & Albany      &  46 & 47.6 &   44 &  116 &  8.8 & 33.36 & 135\\\\\n",
       "\t2 & Albuquerque &  11 & 56.8 &   46 &  244 &  8.9 &  7.77 &  58\\\\\n",
       "\t3 & Atlanta     &  24 & 61.5 &  368 &  497 &  9.1 & 48.34 & 115\\\\\n",
       "\t4 & Baltimore   &  47 & 55.0 &  625 &  905 &  9.6 & 41.31 & 111\\\\\n",
       "\t5 & Buffalo     &  11 & 47.1 &  391 &  463 & 12.4 & 36.11 & 166\\\\\n",
       "\t6 & Charleston  &  31 & 55.2 &   35 &   71 &  6.5 & 40.75 & 148\\\\\n",
       "\t7 & Chicago     & 110 & 50.6 & 3344 & 3369 & 10.4 & 34.44 & 122\\\\\n",
       "\t8 & Cincimnati  &  23 & 54.0 &  462 &  453 &  7.1 & 39.04 & 132\\\\\n",
       "\t9 & Cleveland   &  65 & 49.7 & 1007 &  751 & 10.9 & 34.99 & 155\\\\\n",
       "\t11 & Columbus    &  26 & 51.5 &  266 &  540 &  8.6 & 37.01 & 134\\\\\n",
       "\t12 & Dallas      &   9 & 66.2 &  641 &  844 & 10.9 & 35.94 &  78\\\\\n",
       "\t13 & Denver      &  17 & 51.9 &  454 &  515 &  9.0 & 12.95 &  86\\\\\n",
       "\t14 & Des Moines  &  17 & 66.2 &  104 &  201 & 11.2 & 30.85 & 103\\\\\n",
       "\\end{tabular}\n"
      ],
      "text/markdown": [
       "\n",
       "A data.frame: 13 x 8\n",
       "\n",
       "| <!--/--> | ThanhPho &lt;chr&gt; | SO2 &lt;int&gt; | NhietDo &lt;dbl&gt; | SoLuong &lt;int&gt; | DanSo &lt;int&gt; | Gio &lt;dbl&gt; | LuongMua &lt;dbl&gt; | SoNgay &lt;int&gt; |\n",
       "|---|---|---|---|---|---|---|---|---|\n",
       "| 1 | Albany      |  46 | 47.6 |   44 |  116 |  8.8 | 33.36 | 135 |\n",
       "| 2 | Albuquerque |  11 | 56.8 |   46 |  244 |  8.9 |  7.77 |  58 |\n",
       "| 3 | Atlanta     |  24 | 61.5 |  368 |  497 |  9.1 | 48.34 | 115 |\n",
       "| 4 | Baltimore   |  47 | 55.0 |  625 |  905 |  9.6 | 41.31 | 111 |\n",
       "| 5 | Buffalo     |  11 | 47.1 |  391 |  463 | 12.4 | 36.11 | 166 |\n",
       "| 6 | Charleston  |  31 | 55.2 |   35 |   71 |  6.5 | 40.75 | 148 |\n",
       "| 7 | Chicago     | 110 | 50.6 | 3344 | 3369 | 10.4 | 34.44 | 122 |\n",
       "| 8 | Cincimnati  |  23 | 54.0 |  462 |  453 |  7.1 | 39.04 | 132 |\n",
       "| 9 | Cleveland   |  65 | 49.7 | 1007 |  751 | 10.9 | 34.99 | 155 |\n",
       "| 11 | Columbus    |  26 | 51.5 |  266 |  540 |  8.6 | 37.01 | 134 |\n",
       "| 12 | Dallas      |   9 | 66.2 |  641 |  844 | 10.9 | 35.94 |  78 |\n",
       "| 13 | Denver      |  17 | 51.9 |  454 |  515 |  9.0 | 12.95 |  86 |\n",
       "| 14 | Des Moines  |  17 | 66.2 |  104 |  201 | 11.2 | 30.85 | 103 |\n",
       "\n"
      ],
      "text/plain": [
       "   ThanhPho    SO2 NhietDo SoLuong DanSo Gio  LuongMua SoNgay\n",
       "1  Albany       46 47.6      44     116   8.8 33.36    135   \n",
       "2  Albuquerque  11 56.8      46     244   8.9  7.77     58   \n",
       "3  Atlanta      24 61.5     368     497   9.1 48.34    115   \n",
       "4  Baltimore    47 55.0     625     905   9.6 41.31    111   \n",
       "5  Buffalo      11 47.1     391     463  12.4 36.11    166   \n",
       "6  Charleston   31 55.2      35      71   6.5 40.75    148   \n",
       "7  Chicago     110 50.6    3344    3369  10.4 34.44    122   \n",
       "8  Cincimnati   23 54.0     462     453   7.1 39.04    132   \n",
       "9  Cleveland    65 49.7    1007     751  10.9 34.99    155   \n",
       "11 Columbus     26 51.5     266     540   8.6 37.01    134   \n",
       "12 Dallas        9 66.2     641     844  10.9 35.94     78   \n",
       "13 Denver       17 51.9     454     515   9.0 12.95     86   \n",
       "14 Des Moines   17 66.2     104     201  11.2 30.85    103   "
      ]
     },
     "metadata": {},
     "output_type": "display_data"
    }
   ],
   "source": [
    "data <- read.csv(\"thanhpho.csv\")\n",
    "data <- na.omit(data)\n",
    "attach(data)\n",
    "data"
   ]
  },
  {
   "cell_type": "markdown",
   "id": "a415ae78-fc14-49bd-8810-cb1b8ae1e062",
   "metadata": {},
   "source": [
    "- SO2: hàm lượng SO2 trong không khí (microgam/m3)\n",
    "- Nhiệt độ: nhiệt độ trung bình hằng năm (độ F)\n",
    "- Số lượng: số lượng doanh nghiệp sản xuất sử dụng 20 công nhân trở lên\n",
    "- Dân số: quy mô dân số (điều tra dân số năm 1970) (nghìn người)\n",
    "- Gió: tốc độ gió trung bình hằng năm (dặm/giờ)\n",
    "- Lượng mưa: lượng mưa trung bình hằng năm (inch)\n",
    "- Số ngày: số ngày trung bình mưa mỗi năm"
   ]
  },
  {
   "cell_type": "markdown",
   "id": "3de4c8d0-2c26-4469-945e-610bb9a7efcb",
   "metadata": {
    "tags": []
   },
   "source": [
    "#### a) Tính kỳ vọng mẫu gồm 7 biến được lấy số liệu tại Albany, Atlanta, Chicago, Cleveland, Colombus và Denver."
   ]
  },
  {
   "cell_type": "code",
   "execution_count": 7,
   "id": "af68d1cf-7a8f-46ad-bd69-66e32cc1d9bc",
   "metadata": {
    "tags": []
   },
   "outputs": [
    {
     "data": {
      "text/html": [
       "<style>\n",
       ".dl-inline {width: auto; margin:0; padding: 0}\n",
       ".dl-inline>dt, .dl-inline>dd {float: none; width: auto; display: inline-block}\n",
       ".dl-inline>dt::after {content: \":\\0020\"; padding-right: .5ex}\n",
       ".dl-inline>dt:not(:first-of-type) {padding-left: .5ex}\n",
       "</style><dl class=dl-inline><dt>SO2</dt><dd>52.4</dd><dt>NhietDo</dt><dd>52.26</dd><dt>SoLuong</dt><dd>1043.4</dd><dt>DanSo</dt><dd>1049.6</dd><dt>Gio</dt><dd>9.64</dd><dt>LuongMua</dt><dd>32.816</dd><dt>SoNgay</dt><dd>122.6</dd></dl>\n"
      ],
      "text/latex": [
       "\\begin{description*}\n",
       "\\item[SO2] 52.4\n",
       "\\item[NhietDo] 52.26\n",
       "\\item[SoLuong] 1043.4\n",
       "\\item[DanSo] 1049.6\n",
       "\\item[Gio] 9.64\n",
       "\\item[LuongMua] 32.816\n",
       "\\item[SoNgay] 122.6\n",
       "\\end{description*}\n"
      ],
      "text/markdown": [
       "SO2\n",
       ":   52.4NhietDo\n",
       ":   52.26SoLuong\n",
       ":   1043.4DanSo\n",
       ":   1049.6Gio\n",
       ":   9.64LuongMua\n",
       ":   32.816SoNgay\n",
       ":   122.6\n",
       "\n"
      ],
      "text/plain": [
       "     SO2  NhietDo  SoLuong    DanSo      Gio LuongMua   SoNgay \n",
       "  52.400   52.260 1043.400 1049.600    9.640   32.816  122.600 "
      ]
     },
     "metadata": {},
     "output_type": "display_data"
    }
   ],
   "source": [
    "colMeans(data[ThanhPho %in% c(\"Albany\", \"Atlanta\", \"Chicago\",\n",
    "                              \"Cleveland\", \"Colombus\", \"Denver\"), -1])"
   ]
  },
  {
   "cell_type": "markdown",
   "id": "d1c759ba-1a95-4346-8816-4f42be444d6f",
   "metadata": {},
   "source": [
    "#### b) Với mẫu gồm 3 biến về hàm lượng SO2 trong không khí, nhiệt độ và lượng mưa trung bình hằng năm tại 13 thành phố, hãy tính phương sai mẫu."
   ]
  },
  {
   "cell_type": "code",
   "execution_count": 8,
   "id": "7252add6-6f66-4b84-80a6-dbe92015fc54",
   "metadata": {
    "tags": []
   },
   "outputs": [
    {
     "data": {
      "text/html": [
       "<table class=\"dataframe\">\n",
       "<caption>A matrix: 3 x 3 of type dbl</caption>\n",
       "<thead>\n",
       "\t<tr><th></th><th scope=col>SO2</th><th scope=col>NhietDo</th><th scope=col>LuongMua</th></tr>\n",
       "</thead>\n",
       "<tbody>\n",
       "\t<tr><th scope=row>SO2</th><td>800.25641</td><td>-74.346154</td><td> 68.537885</td></tr>\n",
       "\t<tr><th scope=row>NhietDo</th><td>-74.34615</td><td> 40.305641</td><td>  5.263564</td></tr>\n",
       "\t<tr><th scope=row>LuongMua</th><td> 68.53788</td><td>  5.263564</td><td>123.625556</td></tr>\n",
       "</tbody>\n",
       "</table>\n"
      ],
      "text/latex": [
       "A matrix: 3 x 3 of type dbl\n",
       "\\begin{tabular}{r|lll}\n",
       "  & SO2 & NhietDo & LuongMua\\\\\n",
       "\\hline\n",
       "\tSO2 & 800.25641 & -74.346154 &  68.537885\\\\\n",
       "\tNhietDo & -74.34615 &  40.305641 &   5.263564\\\\\n",
       "\tLuongMua &  68.53788 &   5.263564 & 123.625556\\\\\n",
       "\\end{tabular}\n"
      ],
      "text/markdown": [
       "\n",
       "A matrix: 3 x 3 of type dbl\n",
       "\n",
       "| <!--/--> | SO2 | NhietDo | LuongMua |\n",
       "|---|---|---|---|\n",
       "| SO2 | 800.25641 | -74.346154 |  68.537885 |\n",
       "| NhietDo | -74.34615 |  40.305641 |   5.263564 |\n",
       "| LuongMua |  68.53788 |   5.263564 | 123.625556 |\n",
       "\n"
      ],
      "text/plain": [
       "         SO2       NhietDo    LuongMua  \n",
       "SO2      800.25641 -74.346154  68.537885\n",
       "NhietDo  -74.34615  40.305641   5.263564\n",
       "LuongMua  68.53788   5.263564 123.625556"
      ]
     },
     "metadata": {},
     "output_type": "display_data"
    }
   ],
   "source": [
    "var(data[, c(\"SO2\", \"NhietDo\", \"LuongMua\")])"
   ]
  },
  {
   "cell_type": "markdown",
   "id": "6a3e771e-1f0d-4da9-8993-328dbd448201",
   "metadata": {},
   "source": [
    "#### c) Tính tương quan mẫu gồm 7 biến được lấy số liệu tại 13 thành phố."
   ]
  },
  {
   "cell_type": "code",
   "execution_count": 9,
   "id": "d5fe05e8-74b2-4520-8926-59b9d09c2f57",
   "metadata": {
    "tags": []
   },
   "outputs": [
    {
     "data": {
      "text/html": [
       "<table class=\"dataframe\">\n",
       "<caption>A matrix: 7 x 7 of type dbl</caption>\n",
       "<thead>\n",
       "\t<tr><th></th><th scope=col>SO2</th><th scope=col>NhietDo</th><th scope=col>SoLuong</th><th scope=col>DanSo</th><th scope=col>Gio</th><th scope=col>LuongMua</th><th scope=col>SoNgay</th></tr>\n",
       "</thead>\n",
       "<tbody>\n",
       "\t<tr><th scope=row>SO2</th><td> 1.00000000</td><td>-0.41396251</td><td> 0.84591537</td><td> 0.807019185</td><td> 0.07646802</td><td> 0.21790239</td><td> 0.309644222</td></tr>\n",
       "\t<tr><th scope=row>NhietDo</th><td>-0.41396251</td><td> 1.00000000</td><td>-0.21704236</td><td>-0.165891223</td><td> 0.06675519</td><td> 0.07456635</td><td>-0.596054002</td></tr>\n",
       "\t<tr><th scope=row>SoLuong</th><td> 0.84591537</td><td>-0.21704236</td><td> 1.00000000</td><td> 0.987234132</td><td> 0.28081179</td><td> 0.10401331</td><td> 0.080843227</td></tr>\n",
       "\t<tr><th scope=row>DanSo</th><td> 0.80701918</td><td>-0.16589122</td><td> 0.98723413</td><td> 1.000000000</td><td> 0.27592065</td><td> 0.10029427</td><td> 0.002008666</td></tr>\n",
       "\t<tr><th scope=row>Gio</th><td> 0.07646802</td><td> 0.06675519</td><td> 0.28081179</td><td> 0.275920653</td><td> 1.00000000</td><td>-0.03694089</td><td> 0.025287695</td></tr>\n",
       "\t<tr><th scope=row>LuongMua</th><td> 0.21790239</td><td> 0.07456635</td><td> 0.10401331</td><td> 0.100294271</td><td>-0.03694089</td><td> 1.00000000</td><td> 0.615649296</td></tr>\n",
       "\t<tr><th scope=row>SoNgay</th><td> 0.30964422</td><td>-0.59605400</td><td> 0.08084323</td><td> 0.002008666</td><td> 0.02528770</td><td> 0.61564930</td><td> 1.000000000</td></tr>\n",
       "</tbody>\n",
       "</table>\n"
      ],
      "text/latex": [
       "A matrix: 7 x 7 of type dbl\n",
       "\\begin{tabular}{r|lllllll}\n",
       "  & SO2 & NhietDo & SoLuong & DanSo & Gio & LuongMua & SoNgay\\\\\n",
       "\\hline\n",
       "\tSO2 &  1.00000000 & -0.41396251 &  0.84591537 &  0.807019185 &  0.07646802 &  0.21790239 &  0.309644222\\\\\n",
       "\tNhietDo & -0.41396251 &  1.00000000 & -0.21704236 & -0.165891223 &  0.06675519 &  0.07456635 & -0.596054002\\\\\n",
       "\tSoLuong &  0.84591537 & -0.21704236 &  1.00000000 &  0.987234132 &  0.28081179 &  0.10401331 &  0.080843227\\\\\n",
       "\tDanSo &  0.80701918 & -0.16589122 &  0.98723413 &  1.000000000 &  0.27592065 &  0.10029427 &  0.002008666\\\\\n",
       "\tGio &  0.07646802 &  0.06675519 &  0.28081179 &  0.275920653 &  1.00000000 & -0.03694089 &  0.025287695\\\\\n",
       "\tLuongMua &  0.21790239 &  0.07456635 &  0.10401331 &  0.100294271 & -0.03694089 &  1.00000000 &  0.615649296\\\\\n",
       "\tSoNgay &  0.30964422 & -0.59605400 &  0.08084323 &  0.002008666 &  0.02528770 &  0.61564930 &  1.000000000\\\\\n",
       "\\end{tabular}\n"
      ],
      "text/markdown": [
       "\n",
       "A matrix: 7 x 7 of type dbl\n",
       "\n",
       "| <!--/--> | SO2 | NhietDo | SoLuong | DanSo | Gio | LuongMua | SoNgay |\n",
       "|---|---|---|---|---|---|---|---|\n",
       "| SO2 |  1.00000000 | -0.41396251 |  0.84591537 |  0.807019185 |  0.07646802 |  0.21790239 |  0.309644222 |\n",
       "| NhietDo | -0.41396251 |  1.00000000 | -0.21704236 | -0.165891223 |  0.06675519 |  0.07456635 | -0.596054002 |\n",
       "| SoLuong |  0.84591537 | -0.21704236 |  1.00000000 |  0.987234132 |  0.28081179 |  0.10401331 |  0.080843227 |\n",
       "| DanSo |  0.80701918 | -0.16589122 |  0.98723413 |  1.000000000 |  0.27592065 |  0.10029427 |  0.002008666 |\n",
       "| Gio |  0.07646802 |  0.06675519 |  0.28081179 |  0.275920653 |  1.00000000 | -0.03694089 |  0.025287695 |\n",
       "| LuongMua |  0.21790239 |  0.07456635 |  0.10401331 |  0.100294271 | -0.03694089 |  1.00000000 |  0.615649296 |\n",
       "| SoNgay |  0.30964422 | -0.59605400 |  0.08084323 |  0.002008666 |  0.02528770 |  0.61564930 |  1.000000000 |\n",
       "\n"
      ],
      "text/plain": [
       "         SO2         NhietDo     SoLuong     DanSo        Gio        \n",
       "SO2       1.00000000 -0.41396251  0.84591537  0.807019185  0.07646802\n",
       "NhietDo  -0.41396251  1.00000000 -0.21704236 -0.165891223  0.06675519\n",
       "SoLuong   0.84591537 -0.21704236  1.00000000  0.987234132  0.28081179\n",
       "DanSo     0.80701918 -0.16589122  0.98723413  1.000000000  0.27592065\n",
       "Gio       0.07646802  0.06675519  0.28081179  0.275920653  1.00000000\n",
       "LuongMua  0.21790239  0.07456635  0.10401331  0.100294271 -0.03694089\n",
       "SoNgay    0.30964422 -0.59605400  0.08084323  0.002008666  0.02528770\n",
       "         LuongMua    SoNgay      \n",
       "SO2       0.21790239  0.309644222\n",
       "NhietDo   0.07456635 -0.596054002\n",
       "SoLuong   0.10401331  0.080843227\n",
       "DanSo     0.10029427  0.002008666\n",
       "Gio      -0.03694089  0.025287695\n",
       "LuongMua  1.00000000  0.615649296\n",
       "SoNgay    0.61564930  1.000000000"
      ]
     },
     "metadata": {},
     "output_type": "display_data"
    }
   ],
   "source": [
    "cor(data[, -1])"
   ]
  }
 ],
 "metadata": {
  "kernelspec": {
   "display_name": "R",
   "language": "R",
   "name": "ir"
  },
  "language_info": {
   "codemirror_mode": "r",
   "file_extension": ".r",
   "mimetype": "text/x-r-source",
   "name": "R",
   "pygments_lexer": "r",
   "version": "4.2.2"
  }
 },
 "nbformat": 4,
 "nbformat_minor": 5
}
