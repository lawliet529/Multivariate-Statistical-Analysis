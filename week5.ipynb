{
 "cells": [
  {
   "cell_type": "markdown",
   "id": "4aaaa194-fd09-4fc5-8a36-06b70e81b1a2",
   "metadata": {},
   "source": [
    "# THỰC HÀNH HỒI QUY TUYẾN TÍNH ĐA BIẾN"
   ]
  },
  {
   "cell_type": "markdown",
   "id": "7a7c8472-0f52-4757-a82e-2b60b59d3607",
   "metadata": {},
   "source": [
    "Sử dụng bộ dữ liệu Boston trong gói lệnh MASS bao gồm 14 biến liên quan đến giá trị nhà ở vùng ngoại ô ở Boston và hàm step, phân tích hồi quy bội của biến medv (giá nhà trung bình – đơn vị: nghìn $) theo các biến còn lại."
   ]
  },
  {
   "cell_type": "code",
   "execution_count": 1,
   "id": "82de1fb2-ca77-4870-8d2e-656b7e0eb341",
   "metadata": {
    "tags": []
   },
   "outputs": [],
   "source": [
    "# install.packages(\"MASS\")\n",
    "library(MASS)"
   ]
  },
  {
   "cell_type": "markdown",
   "id": "8c71fcc3-d40c-411e-a078-7f7d0c716fa4",
   "metadata": {},
   "source": [
    "a) Đưa ra mô hình hồi quy tuyến tính \"forward\" và \"backward\" tốt nhất."
   ]
  },
  {
   "cell_type": "code",
   "execution_count": 2,
   "id": "5604dd1a-b6b6-4903-8164-d0ede2e334f7",
   "metadata": {
    "tags": []
   },
   "outputs": [],
   "source": [
    "only = lm(medv ~ 1, data = Boston)\n",
    "all = lm(medv ~ ., data = Boston)"
   ]
  },
  {
   "cell_type": "code",
   "execution_count": 3,
   "id": "91fca169-41a6-4477-bba0-db2445a7726e",
   "metadata": {
    "tags": []
   },
   "outputs": [
    {
     "data": {
      "text/html": [
       "<style>\n",
       ".dl-inline {width: auto; margin:0; padding: 0}\n",
       ".dl-inline>dt, .dl-inline>dd {float: none; width: auto; display: inline-block}\n",
       ".dl-inline>dt::after {content: \":\\0020\"; padding-right: .5ex}\n",
       ".dl-inline>dt:not(:first-of-type) {padding-left: .5ex}\n",
       "</style><dl class=dl-inline><dt>(Intercept)</dt><dd>36.3411450044702</dd><dt>lstat</dt><dd>-0.522553456857884</dd><dt>rm</dt><dd>3.80157884010608</dd><dt>ptratio</dt><dd>-0.946524570309824</dd><dt>dis</dt><dd>-1.49271146044672</dd><dt>nox</dt><dd>-17.3760234294207</dd><dt>chas</dt><dd>2.71871630283508</dd><dt>black</dt><dd>0.00929084477199778</dd><dt>zn</dt><dd>0.0458449291951271</dd><dt>crim</dt><dd>-0.10841334532816</dd><dt>rad</dt><dd>0.299608453676833</dd><dt>tax</dt><dd>-0.0117779734658271</dd></dl>\n"
      ],
      "text/latex": [
       "\\begin{description*}\n",
       "\\item[(Intercept)] 36.3411450044702\n",
       "\\item[lstat] -0.522553456857884\n",
       "\\item[rm] 3.80157884010608\n",
       "\\item[ptratio] -0.946524570309824\n",
       "\\item[dis] -1.49271146044672\n",
       "\\item[nox] -17.3760234294207\n",
       "\\item[chas] 2.71871630283508\n",
       "\\item[black] 0.00929084477199778\n",
       "\\item[zn] 0.0458449291951271\n",
       "\\item[crim] -0.10841334532816\n",
       "\\item[rad] 0.299608453676833\n",
       "\\item[tax] -0.0117779734658271\n",
       "\\end{description*}\n"
      ],
      "text/markdown": [
       "(Intercept)\n",
       ":   36.3411450044702lstat\n",
       ":   -0.522553456857884rm\n",
       ":   3.80157884010608ptratio\n",
       ":   -0.946524570309824dis\n",
       ":   -1.49271146044672nox\n",
       ":   -17.3760234294207chas\n",
       ":   2.71871630283508black\n",
       ":   0.00929084477199778zn\n",
       ":   0.0458449291951271crim\n",
       ":   -0.10841334532816rad\n",
       ":   0.299608453676833tax\n",
       ":   -0.0117779734658271\n",
       "\n"
      ],
      "text/plain": [
       "  (Intercept)         lstat            rm       ptratio           dis \n",
       " 36.341145004  -0.522553457   3.801578840  -0.946524570  -1.492711460 \n",
       "          nox          chas         black            zn          crim \n",
       "-17.376023429   2.718716303   0.009290845   0.045844929  -0.108413345 \n",
       "          rad           tax \n",
       "  0.299608454  -0.011777973 "
      ]
     },
     "metadata": {},
     "output_type": "display_data"
    }
   ],
   "source": [
    "forward = step(only, formula(all), direction = \"forward\", trace = 0)\n",
    "forward$coefficients"
   ]
  },
  {
   "cell_type": "code",
   "execution_count": 4,
   "id": "4f246e0f-3abf-4aaf-b92b-f3884e7eb296",
   "metadata": {
    "tags": []
   },
   "outputs": [
    {
     "data": {
      "text/html": [
       "<style>\n",
       ".dl-inline {width: auto; margin:0; padding: 0}\n",
       ".dl-inline>dt, .dl-inline>dd {float: none; width: auto; display: inline-block}\n",
       ".dl-inline>dt::after {content: \":\\0020\"; padding-right: .5ex}\n",
       ".dl-inline>dt:not(:first-of-type) {padding-left: .5ex}\n",
       "</style><dl class=dl-inline><dt>(Intercept)</dt><dd>36.3411450044702</dd><dt>crim</dt><dd>-0.10841334532816</dd><dt>zn</dt><dd>0.0458449291951271</dd><dt>chas</dt><dd>2.71871630283508</dd><dt>nox</dt><dd>-17.3760234294207</dd><dt>rm</dt><dd>3.80157884010608</dd><dt>dis</dt><dd>-1.49271146044673</dd><dt>rad</dt><dd>0.299608453676833</dd><dt>tax</dt><dd>-0.0117779734658271</dd><dt>ptratio</dt><dd>-0.946524570309824</dd><dt>black</dt><dd>0.00929084477199778</dd><dt>lstat</dt><dd>-0.522553456857884</dd></dl>\n"
      ],
      "text/latex": [
       "\\begin{description*}\n",
       "\\item[(Intercept)] 36.3411450044702\n",
       "\\item[crim] -0.10841334532816\n",
       "\\item[zn] 0.0458449291951271\n",
       "\\item[chas] 2.71871630283508\n",
       "\\item[nox] -17.3760234294207\n",
       "\\item[rm] 3.80157884010608\n",
       "\\item[dis] -1.49271146044673\n",
       "\\item[rad] 0.299608453676833\n",
       "\\item[tax] -0.0117779734658271\n",
       "\\item[ptratio] -0.946524570309824\n",
       "\\item[black] 0.00929084477199778\n",
       "\\item[lstat] -0.522553456857884\n",
       "\\end{description*}\n"
      ],
      "text/markdown": [
       "(Intercept)\n",
       ":   36.3411450044702crim\n",
       ":   -0.10841334532816zn\n",
       ":   0.0458449291951271chas\n",
       ":   2.71871630283508nox\n",
       ":   -17.3760234294207rm\n",
       ":   3.80157884010608dis\n",
       ":   -1.49271146044673rad\n",
       ":   0.299608453676833tax\n",
       ":   -0.0117779734658271ptratio\n",
       ":   -0.946524570309824black\n",
       ":   0.00929084477199778lstat\n",
       ":   -0.522553456857884\n",
       "\n"
      ],
      "text/plain": [
       "  (Intercept)          crim            zn          chas           nox \n",
       " 36.341145004  -0.108413345   0.045844929   2.718716303 -17.376023429 \n",
       "           rm           dis           rad           tax       ptratio \n",
       "  3.801578840  -1.492711460   0.299608454  -0.011777973  -0.946524570 \n",
       "        black         lstat \n",
       "  0.009290845  -0.522553457 "
      ]
     },
     "metadata": {},
     "output_type": "display_data"
    }
   ],
   "source": [
    "backward = step(all, formula(only), direction = \"backward\", trace = 0)\n",
    "backward$coefficients"
   ]
  },
  {
   "cell_type": "markdown",
   "id": "5136b285-bb39-4ab2-bc0d-109c048f02e5",
   "metadata": {},
   "source": [
    "b) Khi phân tích “forward”, nếu biến medv được biểu diễn theo hai biến thì đó\n",
    "là những biến nào?"
   ]
  },
  {
   "cell_type": "code",
   "execution_count": 5,
   "id": "c5b8fae9-cbcd-4850-927e-2097c7bdedf3",
   "metadata": {
    "tags": []
   },
   "outputs": [
    {
     "data": {
      "text/html": [
       "<table class=\"dataframe\">\n",
       "<caption>A data.frame: 12 x 6</caption>\n",
       "<thead>\n",
       "\t<tr><th scope=col>Step</th><th scope=col>Df</th><th scope=col>Deviance</th><th scope=col>Resid. Df</th><th scope=col>Resid. Dev</th><th scope=col>AIC</th></tr>\n",
       "\t<tr><th scope=col>&lt;I&lt;chr&gt;&gt;</th><th scope=col>&lt;dbl&gt;</th><th scope=col>&lt;dbl&gt;</th><th scope=col>&lt;dbl&gt;</th><th scope=col>&lt;dbl&gt;</th><th scope=col>&lt;dbl&gt;</th></tr>\n",
       "</thead>\n",
       "<tbody>\n",
       "\t<tr><td>         </td><td>NA</td><td>         NA</td><td>505</td><td>42716.30</td><td>2246.514</td></tr>\n",
       "\t<tr><td>+ lstat  </td><td>-1</td><td>23243.91400</td><td>504</td><td>19472.38</td><td>1851.009</td></tr>\n",
       "\t<tr><td>+ rm     </td><td>-1</td><td> 4033.07222</td><td>503</td><td>15439.31</td><td>1735.577</td></tr>\n",
       "\t<tr><td>+ ptratio</td><td>-1</td><td> 1711.32389</td><td>502</td><td>13727.99</td><td>1678.131</td></tr>\n",
       "\t<tr><td>+ dis    </td><td>-1</td><td>  499.07761</td><td>501</td><td>13228.91</td><td>1661.393</td></tr>\n",
       "\t<tr><td>+ nox    </td><td>-1</td><td>  759.56355</td><td>500</td><td>12469.34</td><td>1633.473</td></tr>\n",
       "\t<tr><td>+ chas   </td><td>-1</td><td>  328.27141</td><td>499</td><td>12141.07</td><td>1621.973</td></tr>\n",
       "\t<tr><td>+ black  </td><td>-1</td><td>  272.83713</td><td>498</td><td>11868.24</td><td>1612.473</td></tr>\n",
       "\t<tr><td>+ zn     </td><td>-1</td><td>  189.93614</td><td>497</td><td>11678.30</td><td>1606.309</td></tr>\n",
       "\t<tr><td>+ crim   </td><td>-1</td><td>   94.71193</td><td>496</td><td>11583.59</td><td>1604.189</td></tr>\n",
       "\t<tr><td>+ rad    </td><td>-1</td><td>  228.60431</td><td>495</td><td>11354.98</td><td>1596.103</td></tr>\n",
       "\t<tr><td>+ tax    </td><td>-1</td><td>  273.61928</td><td>494</td><td>11081.36</td><td>1585.761</td></tr>\n",
       "</tbody>\n",
       "</table>\n"
      ],
      "text/latex": [
       "A data.frame: 12 x 6\n",
       "\\begin{tabular}{llllll}\n",
       " Step & Df & Deviance & Resid. Df & Resid. Dev & AIC\\\\\n",
       " <I<chr>> & <dbl> & <dbl> & <dbl> & <dbl> & <dbl>\\\\\n",
       "\\hline\n",
       "\t           & NA &          NA & 505 & 42716.30 & 2246.514\\\\\n",
       "\t + lstat   & -1 & 23243.91400 & 504 & 19472.38 & 1851.009\\\\\n",
       "\t + rm      & -1 &  4033.07222 & 503 & 15439.31 & 1735.577\\\\\n",
       "\t + ptratio & -1 &  1711.32389 & 502 & 13727.99 & 1678.131\\\\\n",
       "\t + dis     & -1 &   499.07761 & 501 & 13228.91 & 1661.393\\\\\n",
       "\t + nox     & -1 &   759.56355 & 500 & 12469.34 & 1633.473\\\\\n",
       "\t + chas    & -1 &   328.27141 & 499 & 12141.07 & 1621.973\\\\\n",
       "\t + black   & -1 &   272.83713 & 498 & 11868.24 & 1612.473\\\\\n",
       "\t + zn      & -1 &   189.93614 & 497 & 11678.30 & 1606.309\\\\\n",
       "\t + crim    & -1 &    94.71193 & 496 & 11583.59 & 1604.189\\\\\n",
       "\t + rad     & -1 &   228.60431 & 495 & 11354.98 & 1596.103\\\\\n",
       "\t + tax     & -1 &   273.61928 & 494 & 11081.36 & 1585.761\\\\\n",
       "\\end{tabular}\n"
      ],
      "text/markdown": [
       "\n",
       "A data.frame: 12 x 6\n",
       "\n",
       "| Step &lt;I&lt;chr&gt;&gt; | Df &lt;dbl&gt; | Deviance &lt;dbl&gt; | Resid. Df &lt;dbl&gt; | Resid. Dev &lt;dbl&gt; | AIC &lt;dbl&gt; |\n",
       "|---|---|---|---|---|---|\n",
       "| <!----> | NA |          NA | 505 | 42716.30 | 2246.514 |\n",
       "| + lstat   | -1 | 23243.91400 | 504 | 19472.38 | 1851.009 |\n",
       "| + rm      | -1 |  4033.07222 | 503 | 15439.31 | 1735.577 |\n",
       "| + ptratio | -1 |  1711.32389 | 502 | 13727.99 | 1678.131 |\n",
       "| + dis     | -1 |   499.07761 | 501 | 13228.91 | 1661.393 |\n",
       "| + nox     | -1 |   759.56355 | 500 | 12469.34 | 1633.473 |\n",
       "| + chas    | -1 |   328.27141 | 499 | 12141.07 | 1621.973 |\n",
       "| + black   | -1 |   272.83713 | 498 | 11868.24 | 1612.473 |\n",
       "| + zn      | -1 |   189.93614 | 497 | 11678.30 | 1606.309 |\n",
       "| + crim    | -1 |    94.71193 | 496 | 11583.59 | 1604.189 |\n",
       "| + rad     | -1 |   228.60431 | 495 | 11354.98 | 1596.103 |\n",
       "| + tax     | -1 |   273.61928 | 494 | 11081.36 | 1585.761 |\n",
       "\n"
      ],
      "text/plain": [
       "   Step      Df Deviance    Resid. Df Resid. Dev AIC     \n",
       "1            NA          NA 505       42716.30   2246.514\n",
       "2  + lstat   -1 23243.91400 504       19472.38   1851.009\n",
       "3  + rm      -1  4033.07222 503       15439.31   1735.577\n",
       "4  + ptratio -1  1711.32389 502       13727.99   1678.131\n",
       "5  + dis     -1   499.07761 501       13228.91   1661.393\n",
       "6  + nox     -1   759.56355 500       12469.34   1633.473\n",
       "7  + chas    -1   328.27141 499       12141.07   1621.973\n",
       "8  + black   -1   272.83713 498       11868.24   1612.473\n",
       "9  + zn      -1   189.93614 497       11678.30   1606.309\n",
       "10 + crim    -1    94.71193 496       11583.59   1604.189\n",
       "11 + rad     -1   228.60431 495       11354.98   1596.103\n",
       "12 + tax     -1   273.61928 494       11081.36   1585.761"
      ]
     },
     "metadata": {},
     "output_type": "display_data"
    }
   ],
   "source": [
    "forward$anova"
   ]
  },
  {
   "cell_type": "markdown",
   "id": "b79cb699-eb94-48ba-a1d6-59442c968212",
   "metadata": {},
   "source": [
    "Hai biến đó là lstat và rm"
   ]
  },
  {
   "cell_type": "markdown",
   "id": "b607d6d3-c200-493f-9283-5c223ca7d5e2",
   "metadata": {},
   "source": [
    "c) Khi phân tích “backward”, kiểm định xem các hệ số trong mô hình hồi quy tuyến tính thu được có thực sự khác 0 không? Phần dư có tuân theo phân phối chuẩn với giá trị trung bình bằng 0 không?"
   ]
  },
  {
   "cell_type": "code",
   "execution_count": 6,
   "id": "0d53f86c-86a2-4aca-9d11-cdb5067f20e4",
   "metadata": {
    "tags": []
   },
   "outputs": [
    {
     "data": {
      "text/plain": [
       "\n",
       "Call:\n",
       "lm(formula = medv ~ crim + zn + chas + nox + rm + dis + rad + \n",
       "    tax + ptratio + black + lstat, data = Boston)\n",
       "\n",
       "Residuals:\n",
       "     Min       1Q   Median       3Q      Max \n",
       "-15.5984  -2.7386  -0.5046   1.7273  26.2373 \n",
       "\n",
       "Coefficients:\n",
       "              Estimate Std. Error t value Pr(>|t|)    \n",
       "(Intercept)  36.341145   5.067492   7.171 2.73e-12 ***\n",
       "crim         -0.108413   0.032779  -3.307 0.001010 ** \n",
       "zn            0.045845   0.013523   3.390 0.000754 ***\n",
       "chas          2.718716   0.854240   3.183 0.001551 ** \n",
       "nox         -17.376023   3.535243  -4.915 1.21e-06 ***\n",
       "rm            3.801579   0.406316   9.356  < 2e-16 ***\n",
       "dis          -1.492711   0.185731  -8.037 6.84e-15 ***\n",
       "rad           0.299608   0.063402   4.726 3.00e-06 ***\n",
       "tax          -0.011778   0.003372  -3.493 0.000521 ***\n",
       "ptratio      -0.946525   0.129066  -7.334 9.24e-13 ***\n",
       "black         0.009291   0.002674   3.475 0.000557 ***\n",
       "lstat        -0.522553   0.047424 -11.019  < 2e-16 ***\n",
       "---\n",
       "Signif. codes:  0 ‘***’ 0.001 ‘**’ 0.01 ‘*’ 0.05 ‘.’ 0.1 ‘ ’ 1\n",
       "\n",
       "Residual standard error: 4.736 on 494 degrees of freedom\n",
       "Multiple R-squared:  0.7406,\tAdjusted R-squared:  0.7348 \n",
       "F-statistic: 128.2 on 11 and 494 DF,  p-value: < 2.2e-16\n"
      ]
     },
     "metadata": {},
     "output_type": "display_data"
    }
   ],
   "source": [
    "summary(backward)"
   ]
  },
  {
   "cell_type": "markdown",
   "id": "909c5bd7-5d10-49e0-9af8-81b42c084006",
   "metadata": {
    "tags": []
   },
   "source": [
    "H0: Hệ số bằng 0  \n",
    "H1: Hệ số khác 0  \n",
    "Do các hệ số đều có p-value < 0,05 $\\Rightarrow$ Bác bỏ H0  \n",
    "Có cơ sở để nói các hệ số trong mô hình \"backward\" là khác 0"
   ]
  },
  {
   "cell_type": "code",
   "execution_count": 7,
   "id": "52cb6abc-959a-4473-8d8a-8b0c6a86e44a",
   "metadata": {
    "tags": []
   },
   "outputs": [
    {
     "data": {
      "text/plain": [
       "\n",
       "\tShapiro-Wilk normality test\n",
       "\n",
       "data:  backward$residuals\n",
       "W = 0.90131, p-value < 2.2e-16\n"
      ]
     },
     "metadata": {},
     "output_type": "display_data"
    }
   ],
   "source": [
    "shapiro.test(backward$residuals)"
   ]
  },
  {
   "cell_type": "markdown",
   "id": "671d991b-12c8-4e5e-94d1-e9e93c69cb73",
   "metadata": {},
   "source": [
    "H0: Phần dư tuân theo phân phối chuẩn  \n",
    "H1: Phần dư không tuân theo phân phối chuẩn  \n",
    "Do p-value < 2.2e-16 < 0.05 $\\Rightarrow$ Bác bỏ H0  \n",
    "Có cơ sở để nói phần dư của mô hình không tuân theo phân phối chuẩn"
   ]
  },
  {
   "cell_type": "code",
   "execution_count": 8,
   "id": "d0376fc3-576f-4723-a900-e510ecd6e12f",
   "metadata": {
    "tags": []
   },
   "outputs": [
    {
     "data": {
      "text/plain": [
       "\n",
       "\tWilcoxon signed rank test with continuity correction\n",
       "\n",
       "data:  backward$residuals\n",
       "V = 55447, p-value = 0.008285\n",
       "alternative hypothesis: true location is not equal to 0\n"
      ]
     },
     "metadata": {},
     "output_type": "display_data"
    }
   ],
   "source": [
    "wilcox.test(backward$residuals)"
   ]
  },
  {
   "cell_type": "markdown",
   "id": "3a153cbb-c00e-4622-a899-b38b6d53daf3",
   "metadata": {},
   "source": [
    "H0: Phần dư có trung bình bằng 0  \n",
    "H1: Phần dư có trung bình khác 0  \n",
    "Do p-value = 0.008285 < 0.05 $\\Rightarrow$ Bác bỏ H0  \n",
    "Có cơ sở để nói phần dư của mô hình là khác 0"
   ]
  }
 ],
 "metadata": {
  "kernelspec": {
   "display_name": "R",
   "language": "R",
   "name": "ir"
  },
  "language_info": {
   "codemirror_mode": "r",
   "file_extension": ".r",
   "mimetype": "text/x-r-source",
   "name": "R",
   "pygments_lexer": "r",
   "version": "4.2.2"
  }
 },
 "nbformat": 4,
 "nbformat_minor": 5
}
